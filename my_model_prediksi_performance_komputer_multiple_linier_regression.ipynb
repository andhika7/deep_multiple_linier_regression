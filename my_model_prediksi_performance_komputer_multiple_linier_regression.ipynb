{
  "nbformat": 4,
  "nbformat_minor": 0,
  "metadata": {
    "colab": {
      "provenance": [],
      "authorship_tag": "ABX9TyP97M+NGZDvlydjpFd6/2Ag",
      "include_colab_link": true
    },
    "kernelspec": {
      "name": "python3",
      "display_name": "Python 3"
    },
    "language_info": {
      "name": "python"
    }
  },
  "cells": [
    {
      "cell_type": "markdown",
      "metadata": {
        "id": "view-in-github",
        "colab_type": "text"
      },
      "source": [
        "<a href=\"https://colab.research.google.com/github/andhika7/deep_multiple_linier_regression/blob/main/my_model_prediksi_performance_komputer_multiple_linier_regression.ipynb\" target=\"_parent\"><img src=\"https://colab.research.google.com/assets/colab-badge.svg\" alt=\"Open In Colab\"/></a>"
      ]
    },
    {
      "cell_type": "code",
      "execution_count": null,
      "metadata": {
        "id": "O0rETnFuxMpR"
      },
      "outputs": [],
      "source": [
        "import pandas as pd\n",
        "import matplotlib.pyplot as plt\n",
        "%matplotlib inline\n",
        "import seaborn as sns\n",
        "import numpy as np"
      ]
    },
    {
      "cell_type": "code",
      "source": [
        "names = ['VENDOR','MODEL_NAME','MYCT', 'MMIN', 'MMAX', 'CACH', 'CHMIN', 'CHMAX', 'PRP', 'ERP' ];\n",
        "data = pd.read_csv('https://archive.ics.uci.edu/ml/machine-learning-databases/cpu-performance/machine.data',names=names)\n",
        "data.head(5)"
      ],
      "metadata": {
        "id": "znKelf9cxQum"
      },
      "execution_count": null,
      "outputs": []
    },
    {
      "cell_type": "markdown",
      "source": [
        "###Attribute Information:\n",
        "\n",
        "1. vendor name: 30 (adviser, amdahl,apollo, basf, bti, burroughs, c.r.d, cambex, cdc, dec, dg, formation, four-phase, gould, honeywell, hp, ibm, ipl, magnuson, microdata, nas, ncr, nixdorf, perkin-elmer, prime, siemens, sperry, sratus, wang)\n",
        "2. Model Name: many unique symbols\n",
        "3. MYCT: machine cycle time in nanoseconds (integer)\n",
        "4. MMIN: minimum main memory in kilobytes (integer)\n",
        "5. MMAX: maximum main memory in kilobytes (integer)\n",
        "6. CACH: cache memory in kilobytes (integer)\n",
        "7. CHMIN: minimum channels in units (integer)\n",
        "8. CHMAX: maximum channels in units (integer)\n",
        "9. PRP: published relative performance (integer)\n",
        "10. ERP: estimated relative performance from the original article (integer)"
      ],
      "metadata": {
        "id": "UNVDX7ELxUSA"
      }
    },
    {
      "cell_type": "markdown",
      "source": [
        "### preprocessing"
      ],
      "metadata": {
        "id": "kX2BzHLqRjXk"
      }
    },
    {
      "cell_type": "code",
      "source": [
        "data.info()"
      ],
      "metadata": {
        "id": "OaIP9Ajzxo3d"
      },
      "execution_count": null,
      "outputs": []
    },
    {
      "cell_type": "code",
      "source": [
        "data.isnull().sum()"
      ],
      "metadata": {
        "id": "sqXCXsupxtK8"
      },
      "execution_count": null,
      "outputs": []
    },
    {
      "cell_type": "code",
      "source": [
        "plt.figure(figsize=(8,5))\n",
        "sns.heatmap(data.corr(), annot=True) #seaborn\n",
        "plt.title('Correlation between the columns')\n",
        "plt.show()"
      ],
      "metadata": {
        "id": "3go9TgDvxw81"
      },
      "execution_count": null,
      "outputs": []
    },
    {
      "cell_type": "markdown",
      "source": [
        "### split dataset ke dependent dan independent features"
      ],
      "metadata": {
        "id": "fg4CdOJZx5GI"
      }
    },
    {
      "cell_type": "code",
      "source": [
        "# attribute 'model' tidak dipakai karena tidak mempengaruhi prediksi\n",
        "X = data.iloc[:,[0,2,3,4,5,6,7,8]].values\n",
        "y = data.iloc[:, 9].values"
      ],
      "metadata": {
        "id": "8PmPJoruyZdM"
      },
      "execution_count": null,
      "outputs": []
    },
    {
      "cell_type": "code",
      "source": [
        "X.shape"
      ],
      "metadata": {
        "id": "2JEBPnTlylQR"
      },
      "execution_count": null,
      "outputs": []
    },
    {
      "cell_type": "markdown",
      "source": [
        "### mengubah kolom vendor menjadi tensor agar dapat terbaca program"
      ],
      "metadata": {
        "id": "P07hcdwclxJe"
      }
    },
    {
      "cell_type": "code",
      "source": [
        "from sklearn.preprocessing import OneHotEncoder,LabelEncoder\n",
        "from sklearn.compose import ColumnTransformer\n",
        "enc=LabelEncoder()\n",
        "X[:,0]=enc.fit_transform(X[:,0])\n",
        "# onenc=OneHotEncoder(categorical_features=[0])\n",
        "onenc=ColumnTransformer([(\"VENDOR\",OneHotEncoder(),[0])], remainder=\"passthrough\")\n",
        "X=onenc.fit_transform(X).toarray()"
      ],
      "metadata": {
        "id": "g7mhh-MTy1tR"
      },
      "execution_count": null,
      "outputs": []
    },
    {
      "cell_type": "code",
      "source": [
        "X"
      ],
      "metadata": {
        "id": "bFwqJnhFzeKz"
      },
      "execution_count": null,
      "outputs": []
    },
    {
      "cell_type": "code",
      "source": [
        "X=X[:,1:]"
      ],
      "metadata": {
        "id": "TX5yxIg_zg-W"
      },
      "execution_count": null,
      "outputs": []
    },
    {
      "cell_type": "code",
      "source": [
        "X.shape"
      ],
      "metadata": {
        "id": "cvOtJXJwzljt"
      },
      "execution_count": null,
      "outputs": []
    },
    {
      "cell_type": "markdown",
      "source": [
        "### split dataset menjadi data training dan data test"
      ],
      "metadata": {
        "id": "_kg1k8jEmAZc"
      }
    },
    {
      "cell_type": "code",
      "source": [
        "#split\n",
        "from sklearn.model_selection import train_test_split\n",
        "X_train, X_test, y_train, y_test = train_test_split(X, y, test_size = 0.2, random_state = 42)\n",
        "\n",
        "print(X_train.shape, y_train.shape)\n",
        "print(X_test.shape, y_test.shape)"
      ],
      "metadata": {
        "id": "qLNZPjDizqHz"
      },
      "execution_count": null,
      "outputs": []
    },
    {
      "cell_type": "markdown",
      "source": [
        "### standarisasi data"
      ],
      "metadata": {
        "id": "nnVo_TYDmNcJ"
      }
    },
    {
      "cell_type": "code",
      "source": [
        "from sklearn.preprocessing import StandardScaler\n",
        "sc_x=StandardScaler()\n",
        "\n",
        "X_train=sc_x.fit_transform(X_train)\n",
        "X_test=sc_x.transform(X_test)"
      ],
      "metadata": {
        "id": "2UhgYilAj4xu"
      },
      "execution_count": null,
      "outputs": []
    },
    {
      "cell_type": "markdown",
      "source": [
        "Membangun deep model dengan 3 buah hidden layer dengan masing2 30 neuron"
      ],
      "metadata": {
        "id": "jCLiQJbWmZel"
      }
    },
    {
      "cell_type": "code",
      "source": [
        "# model\n",
        "import tensorflow as tf\n",
        "\n",
        "from tensorflow.keras.models import Sequential\n",
        "from tensorflow.keras.layers import Dense\n",
        "\n",
        "model = Sequential() # model nama variabel\n",
        "model.add(Dense(X.shape[1], activation='relu')) # input layer (array ke 1)\n",
        "model.add(Dense(30, activation='relu')) # hidden layer 1\n",
        "model.add(Dense(30, activation='relu')) # hidden layer 2\n",
        "model.add(Dense(30, activation='relu')) # hidden layer 3\n",
        "model.add(Dense(1)) # output 1 neuron\n",
        "\n",
        "model.compile(optimizer='adam', loss='mae') # gabung menjadi 1, dengan optimizer adam yg umum digunakan"
      ],
      "metadata": {
        "id": "aJKmxIKm0CKl"
      },
      "execution_count": null,
      "outputs": []
    },
    {
      "cell_type": "code",
      "source": [
        "history = model.fit(X_train, y_train,  # variabel history digunakan menyimpan hasil pembelajaran\n",
        "                    validation_split=0.2, # validasi 20% dari data training\n",
        "                    epochs=100) # belajar sebanyak 100 kali"
      ],
      "metadata": {
        "id": "c8pAB9xc1RCg"
      },
      "execution_count": null,
      "outputs": []
    },
    {
      "cell_type": "code",
      "source": [
        "model.summary()"
      ],
      "metadata": {
        "id": "XyXGJD5-1cQ2"
      },
      "execution_count": null,
      "outputs": []
    },
    {
      "cell_type": "code",
      "source": [
        "plt.plot(history.history['loss'], label='train')\n",
        "plt.plot(history.history['val_loss'], label='val')\n",
        "plt.legend()\n",
        "plt.xlabel('epoch')\n",
        "plt.ylabel('mean absolute error')\n",
        "plt.show()"
      ],
      "metadata": {
        "id": "pbG0D0n41syd"
      },
      "execution_count": null,
      "outputs": []
    },
    {
      "cell_type": "code",
      "source": [
        "Y_pred = model.predict(X_test)"
      ],
      "metadata": {
        "id": "Teg_sReb1zUn"
      },
      "execution_count": null,
      "outputs": []
    },
    {
      "cell_type": "markdown",
      "source": [
        "### mengukur nilai prediksi dengan 3 buah parameter: MAE, MSE, dan R2 score"
      ],
      "metadata": {
        "id": "QTS8hXLWm1lP"
      }
    },
    {
      "cell_type": "code",
      "source": [
        "from sklearn.metrics import mean_absolute_error, mean_squared_error, r2_score\n",
        "from sklearn import metrics\n",
        "\n",
        "print(\"MAE: \", (metrics.mean_absolute_error(Y_pred, y_test)))\n",
        "print(\"MSE: \", (metrics.mean_squared_error(Y_pred, y_test)))\n",
        "print(\"R2 score: \", (metrics.r2_score(Y_pred, y_test)))"
      ],
      "metadata": {
        "id": "72plGipC16Xy"
      },
      "execution_count": null,
      "outputs": []
    },
    {
      "cell_type": "code",
      "source": [
        "sns.regplot(x=Y_pred, y=y_test)\n",
        "plt.xlabel('Predicted')\n",
        "plt.ylabel('Actual')\n",
        "plt.title('Actual vs predicted')\n",
        "plt.show()"
      ],
      "metadata": {
        "id": "V6wSg7Zj2KA2"
      },
      "execution_count": null,
      "outputs": []
    },
    {
      "cell_type": "code",
      "source": [],
      "metadata": {
        "id": "g4WqCIFDnkx5"
      },
      "execution_count": null,
      "outputs": []
    }
  ]
}